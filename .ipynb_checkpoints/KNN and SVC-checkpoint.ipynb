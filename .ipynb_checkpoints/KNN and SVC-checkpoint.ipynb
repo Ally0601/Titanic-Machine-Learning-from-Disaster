{
 "cells": [
  {
   "cell_type": "code",
   "execution_count": 63,
   "metadata": {},
   "outputs": [],
   "source": [
    "import pandas as pd\n",
    "from sklearn.metrics import classification_report, confusion_matrix\n",
    "from sklearn.neighbors import KNeighborsClassifier\n",
    "from sklearn.preprocessing import StandardScaler\n",
    "from sklearn.pipeline import Pipeline\n",
    "from sklearn.model_selection import GridSearchCV\n",
    "from sklearn.svm import SVC"
   ]
  },
  {
   "cell_type": "code",
   "execution_count": 51,
   "metadata": {},
   "outputs": [],
   "source": [
    "X_train = pd.read_csv('X_train.csv')\n",
    "X_test = pd.read_csv('X_test.csv')\n",
    "y_train = pd.read_csv('y_train.csv').values.ravel()\n",
    "y_test = pd.read_csv('y_test.csv').values.ravel()"
   ]
  },
  {
   "cell_type": "code",
   "execution_count": 85,
   "metadata": {},
   "outputs": [
    {
     "name": "stdout",
     "output_type": "stream",
     "text": [
      "\n",
      "---------------------SCALED REPORT-------------------\n",
      "\n",
      "Accuracy with Scaling: 0.861244019138756\n",
      "\n",
      "---Scaled confusion matrix---\n",
      "\n",
      "[[241  25]\n",
      " [ 33 119]]\n",
      "\n",
      "---Scaled classification report---\n",
      "\n",
      "              precision    recall  f1-score   support\n",
      "\n",
      "           0       0.88      0.91      0.89       266\n",
      "           1       0.83      0.78      0.80       152\n",
      "\n",
      "    accuracy                           0.86       418\n",
      "   macro avg       0.85      0.84      0.85       418\n",
      "weighted avg       0.86      0.86      0.86       418\n",
      "\n",
      "\n",
      "---------------------UNSCALED REPORT-------------------\n",
      "\n",
      "Accuracy without Scaling: 0.6483253588516746\n",
      "\n",
      "---Unscaled confusion matrix---\n",
      "\n",
      "[[243  23]\n",
      " [124  28]]\n",
      "\n",
      "---Unscaled classification report---\n",
      "\n",
      "              precision    recall  f1-score   support\n",
      "\n",
      "           0       0.66      0.91      0.77       266\n",
      "           1       0.55      0.18      0.28       152\n",
      "\n",
      "    accuracy                           0.65       418\n",
      "   macro avg       0.61      0.55      0.52       418\n",
      "weighted avg       0.62      0.65      0.59       418\n",
      "\n"
     ]
    }
   ],
   "source": [
    "steps = [('scaler', StandardScaler()),\n",
    "        ('knn', KNeighborsClassifier())]\n",
    "\n",
    "pipeline = Pipeline(steps)\n",
    "\n",
    "knn_scaled = pipeline.fit(X_train, y_train)\n",
    "\n",
    "knn_unscaled = KNeighborsClassifier().fit(X_train, y_train)\n",
    "\n",
    "print(\"\\n---------------------SCALED REPORT-------------------\\n\")\n",
    "\n",
    "print('Accuracy with Scaling: {}'.format(knn_scaled.score(X_test, y_test)))\n",
    "\n",
    "y_pred_scaled = knn_scaled.predict(X_test)\n",
    "\n",
    "print('\\n---Scaled confusion matrix---\\n')\n",
    "\n",
    "print(confusion_matrix(y_test, y_pred_scaled))\n",
    "\n",
    "print('\\n---Scaled classification report---\\n')\n",
    "\n",
    "print(classification_report(y_test, y_pred_scaled))\n",
    "\n",
    "\n",
    "print(\"\\n---------------------UNSCALED REPORT-------------------\\n\")\n",
    "\n",
    "print('Accuracy without Scaling: {}'.format(knn_unscaled.score(X_test, y_test)))\n",
    "\n",
    "y_pred_unscaled = knn_unscaled.predict(X_test)\n",
    "\n",
    "print('\\n---Unscaled confusion matrix---\\n')\n",
    "\n",
    "print(confusion_matrix(y_test, y_pred_unscaled))\n",
    "\n",
    "print('\\n---Unscaled classification report---\\n')\n",
    "\n",
    "print(classification_report(y_test, y_pred_unscaled))\n"
   ]
  },
  {
   "cell_type": "code",
   "execution_count": null,
   "metadata": {},
   "outputs": [],
   "source": []
  },
  {
   "cell_type": "code",
   "execution_count": null,
   "metadata": {
    "scrolled": true
   },
   "outputs": [],
   "source": []
  },
  {
   "cell_type": "code",
   "execution_count": 70,
   "metadata": {
    "scrolled": false
   },
   "outputs": [
    {
     "name": "stdout",
     "output_type": "stream",
     "text": [
      "Accuracy: 0.8875598086124402\n",
      "              precision    recall  f1-score   support\n",
      "\n",
      "           0       0.88      0.96      0.92       266\n",
      "           1       0.91      0.76      0.83       152\n",
      "\n",
      "    accuracy                           0.89       418\n",
      "   macro avg       0.89      0.86      0.87       418\n",
      "weighted avg       0.89      0.89      0.89       418\n",
      "\n",
      "Tuned Model Parameters: {'SVM__C': 1, 'SVM__gamma': 0.1}\n"
     ]
    }
   ],
   "source": [
    "steps = [('scaler', StandardScaler()),\n",
    "         ('SVM', SVC())]\n",
    "\n",
    "pipeline = Pipeline(steps)\n",
    "\n",
    "parameters = {'SVM__C':[1, 10, 100],\n",
    "              'SVM__gamma':[0.1, 0.01]}\n",
    "\n",
    "cv = GridSearchCV(pipeline, parameters, cv=3)\n",
    "\n",
    "cv.fit(X_train, y_train)\n",
    "\n",
    "y_pred = cv.predict(X_test)\n",
    "\n",
    "print(\"Accuracy: {}\".format(cv.score(X_test, y_test)))\n",
    "\n",
    "print(classification_report(y_test, y_pred))\n",
    "\n",
    "print(\"Tuned Model Parameters: {}\".format(cv.best_params_))"
   ]
  },
  {
   "cell_type": "code",
   "execution_count": null,
   "metadata": {},
   "outputs": [],
   "source": []
  },
  {
   "cell_type": "code",
   "execution_count": 29,
   "metadata": {},
   "outputs": [],
   "source": []
  },
  {
   "cell_type": "code",
   "execution_count": 33,
   "metadata": {},
   "outputs": [
    {
     "name": "stdout",
     "output_type": "stream",
     "text": [
      "[[253  13]\n",
      " [133  19]]\n",
      "              precision    recall  f1-score   support\n",
      "\n",
      "           0       0.66      0.95      0.78       266\n",
      "           1       0.59      0.12      0.21       152\n",
      "\n",
      "    accuracy                           0.65       418\n",
      "   macro avg       0.62      0.54      0.49       418\n",
      "weighted avg       0.63      0.65      0.57       418\n",
      "\n"
     ]
    }
   ],
   "source": [
    "print(confusion_matrix(y_test, y_pred))\n",
    "print(classification_report(y_test, y_pred))\n"
   ]
  },
  {
   "cell_type": "code",
   "execution_count": null,
   "metadata": {},
   "outputs": [],
   "source": []
  }
 ],
 "metadata": {
  "kernelspec": {
   "display_name": "Python 3",
   "language": "python",
   "name": "python3"
  },
  "language_info": {
   "codemirror_mode": {
    "name": "ipython",
    "version": 3
   },
   "file_extension": ".py",
   "mimetype": "text/x-python",
   "name": "python",
   "nbconvert_exporter": "python",
   "pygments_lexer": "ipython3",
   "version": "3.7.4"
  }
 },
 "nbformat": 4,
 "nbformat_minor": 2
}
